{
  "cells": [
    {
      "cell_type": "code",
      "execution_count": null,
      "metadata": {
        "id": "bAGodN1iMtsS"
      },
      "outputs": [],
      "source": [
        "from tensorflow import keras\n",
        "import matplotlib.pyplot as plt\n",
        "import os\n",
        "import splitfolders"
      ]
    },
    {
      "cell_type": "code",
      "execution_count": null,
      "metadata": {
        "colab": {
          "base_uri": "https://localhost:8080/",
          "height": 187
        },
        "id": "lz5YuQISm7J5",
        "outputId": "5a8d6222-e9df-4fde-ed06-58bb642578ab"
      },
      "outputs": [],
      "source": [
        "splitfolders.ratio(\"dataset\", output=\"dataset_output\", seed=42)"
      ]
    },
    {
      "cell_type": "code",
      "execution_count": null,
      "metadata": {
        "colab": {
          "base_uri": "https://localhost:8080/"
        },
        "id": "iQPxPP0xpQU7",
        "outputId": "edaf8025-e096-4937-83b7-8788ca1830ec"
      },
      "outputs": [],
      "source": [
        "dataset_path = \"dataset_output\"\n",
        "test_set = keras.utils.image_dataset_from_directory(os.path.join(dataset_path, 'test'), image_size=(224, 224), shuffle=True, seed=42)\n",
        "train_set = keras.utils.image_dataset_from_directory(os.path.join(dataset_path, 'train'), image_size=(224, 224), shuffle=True, seed=42)\n",
        "val_set = keras.utils.image_dataset_from_directory(os.path.join(dataset_path, 'val'), image_size=(224, 224), shuffle=True, seed=42)"
      ]
    },
    {
      "cell_type": "code",
      "execution_count": null,
      "metadata": {
        "id": "6d9V7iKsybLZ"
      },
      "outputs": [],
      "source": [
        "def preprocess_img(img, label):\n",
        "  img = keras.applications.mobilenet_v2.preprocess_input(img)\n",
        "  return img, label"
      ]
    },
    {
      "cell_type": "code",
      "execution_count": null,
      "metadata": {
        "id": "OMyc0z2fwin0"
      },
      "outputs": [],
      "source": [
        "train_set = train_set.shuffle(1000)\n",
        "train_set = train_set.map(preprocess_img).prefetch(1)\n",
        "val_set = val_set.map(preprocess_img).prefetch(1)\n",
        "test_set = test_set.map(preprocess_img).prefetch(1)"
      ]
    },
    {
      "cell_type": "code",
      "execution_count": null,
      "metadata": {
        "id": "rRiauklv64uw"
      },
      "outputs": [],
      "source": [
        "input_ = keras.layers.Input((224, 224, 3))\n",
        "data_augmentation = keras.models.Sequential([\n",
        "  keras.layers.RandomFlip('horizontal'),\n",
        "  keras.layers.RandomRotation(0.3),\n",
        "  keras.layers.RandomZoom(0.3, 0.3)\n",
        "])"
      ]
    },
    {
      "cell_type": "code",
      "execution_count": null,
      "metadata": {
        "colab": {
          "base_uri": "https://localhost:8080/"
        },
        "id": "u-HPnb-XNqjC",
        "outputId": "abeeef7f-04cc-4b90-c4b2-bdb546f406bb"
      },
      "outputs": [],
      "source": [
        "base_model = keras.applications.mobilenet_v2.MobileNetV2(input_shape=(224, 224, 3), include_top=False)"
      ]
    },
    {
      "cell_type": "code",
      "execution_count": null,
      "metadata": {
        "id": "7EpuqbHAzFWU"
      },
      "outputs": [],
      "source": [
        "head_model = data_augmentation(input_)\n",
        "head_model = base_model(head_model)\n",
        "head_model = keras.layers.GlobalAveragePooling2D()(head_model)\n",
        "head_model = keras.layers.Dense(1, activation='sigmoid')(head_model)\n",
        "model = keras.models.Model(inputs=input_, outputs=head_model)"
      ]
    },
    {
      "cell_type": "code",
      "execution_count": null,
      "metadata": {
        "id": "frBOoHm-CcTE"
      },
      "outputs": [],
      "source": [
        "for layer in base_model.layers:\n",
        "  layer.trainable = False"
      ]
    },
    {
      "cell_type": "code",
      "execution_count": null,
      "metadata": {
        "colab": {
          "base_uri": "https://localhost:8080/"
        },
        "id": "-rkVim0-OQJk",
        "outputId": "4c29ca8d-51d4-4273-e9ad-6d4fdd168952"
      },
      "outputs": [],
      "source": [
        "optimizer = keras.optimizers.Nadam()\n",
        "model.compile(optimizer=optimizer, loss='binary_crossentropy', metrics=['accuracy'])\n",
        "history = model.fit(train_set, epochs=10, validation_data=val_set)"
      ]
    },
    {
      "cell_type": "code",
      "execution_count": null,
      "metadata": {
        "colab": {
          "base_uri": "https://localhost:8080/",
          "height": 297
        },
        "id": "386o1S-vaVAc",
        "outputId": "0191beda-a23e-453c-a1db-b034a2e2120b"
      },
      "outputs": [],
      "source": [
        "fig, ax = plt.subplots()\n",
        "ax.plot(history.history['loss'], label='train loss')\n",
        "ax.plot(history.history['val_loss'], label='valid loss')\n",
        "ax.set_xlabel('# of epochs')\n",
        "ax.set_ylabel('Loss')\n",
        "ax.legend()"
      ]
    },
    {
      "cell_type": "code",
      "execution_count": null,
      "metadata": {
        "colab": {
          "base_uri": "https://localhost:8080/",
          "height": 297
        },
        "id": "dNleFBiAbHqC",
        "outputId": "91c66df5-1f61-4141-a349-4e65642a1a2d"
      },
      "outputs": [],
      "source": [
        "fig, ax = plt.subplots()\n",
        "ax.plot(history.history['accuracy'], label='train accuracy')\n",
        "ax.plot(history.history['val_accuracy'], label='valid accuracy')\n",
        "ax.set_xlabel('# of epochs')\n",
        "ax.set_ylabel('Accuracy')\n",
        "ax.legend()"
      ]
    },
    {
      "cell_type": "code",
      "execution_count": null,
      "metadata": {
        "id": "WtdC8lxeQH54"
      },
      "outputs": [],
      "source": [
        "for layer in base_model.layers:\n",
        "  layer.trainable = True"
      ]
    },
    {
      "cell_type": "code",
      "execution_count": null,
      "metadata": {
        "colab": {
          "base_uri": "https://localhost:8080/"
        },
        "id": "7TLSAr74Zlwk",
        "outputId": "cadb4f82-8c11-445a-f001-b25657a64eef"
      },
      "outputs": [],
      "source": [
        "low_lr_optimizer = keras.optimizers.SGD(0.001)\n",
        "# low_lr_optimizer = keras.optimizers.Nadam(0.0001)\n",
        "model.compile(optimizer=low_lr_optimizer, loss='binary_crossentropy', metrics=['accuracy'])\n",
        "all_history = model.fit(train_set, epochs=10, validation_data=val_set)"
      ]
    },
    {
      "cell_type": "code",
      "execution_count": null,
      "metadata": {
        "colab": {
          "base_uri": "https://localhost:8080/",
          "height": 297
        },
        "id": "685-tYP9bvor",
        "outputId": "c5c8f7dd-a747-4130-8f9b-a1faccd08334"
      },
      "outputs": [],
      "source": [
        "fig, ax = plt.subplots()\n",
        "ax.plot(all_history.history['loss'], label='train loss')\n",
        "ax.plot(all_history.history['val_loss'], label='valid loss')\n",
        "ax.set_xlabel('# of epochs')\n",
        "ax.set_ylabel('Loss')\n",
        "ax.legend()"
      ]
    },
    {
      "cell_type": "code",
      "execution_count": null,
      "metadata": {
        "colab": {
          "base_uri": "https://localhost:8080/",
          "height": 297
        },
        "id": "fpFgorW0by7N",
        "outputId": "21c39fd1-db7c-42c2-fb8e-77e218b55cbf"
      },
      "outputs": [],
      "source": [
        "fig, ax = plt.subplots()\n",
        "ax.plot(all_history.history['accuracy'], label='train accuracy')\n",
        "ax.plot(all_history.history['val_accuracy'], label='valid accuracy')\n",
        "ax.set_xlabel('# of epochs')\n",
        "ax.set_ylabel('Accuracy')\n",
        "ax.legend()"
      ]
    },
    {
      "cell_type": "code",
      "execution_count": null,
      "metadata": {
        "id": "QN9zaC-7cJo0"
      },
      "outputs": [],
      "source": [
        "model.save('face_mask_detection_model')"
      ]
    },
    {
      "cell_type": "code",
      "execution_count": null,
      "metadata": {
        "id": "oWprK5-3zv3d"
      },
      "outputs": [],
      "source": []
    }
  ],
  "metadata": {
    "accelerator": "GPU",
    "colab": {
      "name": "face_mask_detect_train.ipynb",
      "provenance": []
    },
    "gpuClass": "standard",
    "kernelspec": {
      "display_name": "Python 3.9.7 ('base')",
      "language": "python",
      "name": "python3"
    },
    "language_info": {
      "codemirror_mode": {
        "name": "ipython",
        "version": 3
      },
      "file_extension": ".py",
      "mimetype": "text/x-python",
      "name": "python",
      "nbconvert_exporter": "python",
      "pygments_lexer": "ipython3",
      "version": "3.9.7"
    },
    "vscode": {
      "interpreter": {
        "hash": "065fa3332753cd260b53aa0070a547187a3ec43491f4bd2637ca8d350c67bbff"
      }
    }
  },
  "nbformat": 4,
  "nbformat_minor": 0
}
